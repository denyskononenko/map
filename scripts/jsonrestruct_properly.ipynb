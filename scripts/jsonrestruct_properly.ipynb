{
 "cells": [
  {
   "cell_type": "code",
   "execution_count": 7,
   "metadata": {},
   "outputs": [],
   "source": [
    "import json\n",
    "import os \n",
    "import re"
   ]
  },
  {
   "cell_type": "code",
   "execution_count": 61,
   "metadata": {},
   "outputs": [],
   "source": [
    "PATH_TO_STYLE = \"/Users/denyskononenko/Documents/map/data/upload/lun-map.json\"\n",
    "PATH_TO_SPRITES = \"/Users/denyskononenko/Documents/map/sprites/\"\n",
    "PATH_TO_SAVE = \"/Users/denyskononenko/Documents/map/sprites/\"\n",
    "PATH_TO_METRO = \"/Users/denyskononenko/Documents/map/\"\n",
    "METRO_LINES = \"metro_lines.geojson\"\n",
    "METRO_ENTRANCE = \"metro_entrance.geojson\"\n",
    "METRO_NAMES = \"metro_names.geojson\"\n",
    "\n",
    "JSON_FFILENAME = \"lun_sprite.json\"\n",
    "RETINA_JSON_FILENAME = \"lun_sprite@2x.json\"\n",
    "\n",
    "METRO_LIST = [\"metro-kharkiv-blue\", \"metro-kharkiv-green\", \"metro-kharkiv-red\", \"metro-kyiv-blue\", \"metro-kyiv-green\", \"metro-kyiv-red\"]\n",
    "PROPERTIES_LIST = [\"icon\", \"railway\", \"name\", \"railway\", \"entrance\", \"operator\", \"wheelchair\", \"transport\", \"colour\", \"station\", \"opening_hours\", \"ref\", \"public_transport\"]\n",
    "\n",
    "MOD_METRO_FILENAMES = [\"metro_entrance_new.geojson\", \"metro_names_new.geojson\", \"metro_lines.geojson\"]\n",
    "\n",
    "\n"
   ]
  },
  {
   "cell_type": "code",
   "execution_count": 98,
   "metadata": {},
   "outputs": [],
   "source": [
    "def change_down_dash(word):\n",
    "    numbers = re.search(r\"-[0-9][0-9]\", word).group(0)\n",
    "    #print(numbers)\n",
    "    #print(re.sub(r\"_[0-9][0-9]\", \"-{}{}\".format(numbers[0], numbers[1]), re.sub(r\"[a-z]{0}-[a-z]{0}\", \"_\", word)))\n",
    "    return re.sub(r\"_[0-9][0-9]\", \"{}\".format(numbers), re.sub(r\"[a-z]{0}-[a-z]{0}\", \"_\", word))\n",
    "     \n",
    "def fix_metro_json(filename):\n",
    "    \"\"\"Change name_ru on name:ru\"\"\"\n",
    "    new_data = {\"features\": []}\n",
    "    with open(filename) as data_json:\n",
    "        data = json.load(data_json)\n",
    "    \n",
    "    data_buff = data.copy\n",
    "    for item in data[\"features\"]:\n",
    "        temp_obj = {}\n",
    "        \n",
    "        temp_obj[\"type\"] = item[\"type\"]\n",
    "        temp_obj[\"properties\"] = {}\n",
    "        temp_obj[\"properties\"][\"name\"] = item[\"properties\"][\"name\"]\n",
    "        temp_obj[\"geometry\"] = {}\n",
    "        temp_obj[\"id\"] = item[\"id\"]\n",
    "        \n",
    "        if \"name_ru\" in item[\"properties\"]:\n",
    "            #print(\"name_ru {}\".format(item[\"properties\"][\"name_ru\"]))\n",
    "            temp_obj[\"properties\"][\"name:ru\"] = item[\"properties\"][\"name_ru\"]\n",
    "        elif \"name:ru\" in item[\"properties\"]:\n",
    "            #print(\"name:ru {}\".format(item[\"properties\"][\"name:ru\"]))\n",
    "            temp_obj[\"properties\"][\"name:ru\"] = item[\"properties\"][\"name:ru\"]\n",
    "        \n",
    "        for propert in PROPERTIES_LIST:\n",
    "            if propert in item[\"properties\"]:\n",
    "                temp_obj[\"properties\"][propert] = item[\"properties\"][propert]\n",
    "        \n",
    "        \n",
    "        temp_obj[\"geometry\"][\"coordinates\"] = item[\"geometry\"][\"coordinates\"]\n",
    "        temp_obj[\"geometry\"][\"type\"] = item[\"geometry\"][\"type\"]\n",
    "        \n",
    "        new_data[\"features\"].append(temp_obj)\n",
    "    \n",
    "    #print(new_data)\n",
    "    with open(PATH_TO_METRO + filename.split(\"/\")[-1].split(\".\")[0] + \"_new.geojson\", 'w') as outfile:\n",
    "            json.dump(new_data, outfile, indent=3)\n",
    "    \n",
    "\n",
    "def generate_metro_mbtile(filenames_arr):\n",
    "    filenames = \"\"\n",
    "    for filename in filenames_arr:\n",
    "        filenames += filename + \" \"\n",
    "    \n",
    "    gen_mbt_cmd = \"tippecanoe -r1 -o lun_metro.mbtiles %s\" % filenames\n",
    "    os.chdir(PATH_TO_METRO)\n",
    "    os.system(gen_mbt_cmd)\n",
    "    print(gen_mbt_cmd)\n",
    "\n"
   ]
  },
  {
   "cell_type": "code",
   "execution_count": 99,
   "metadata": {},
   "outputs": [
    {
     "name": "stdout",
     "output_type": "stream",
     "text": [
      "tippecanoe -r1 -o lun_metro.mbtiles metro_entrance_new.geojson metro_names_new.geojson metro_lines.geojson \n"
     ]
    }
   ],
   "source": [
    "generate_metro_mbtile(MOD_METRO_FILENAMES)"
   ]
  },
  {
   "cell_type": "code",
   "execution_count": 58,
   "metadata": {},
   "outputs": [],
   "source": [
    "fix_metro_json(PATH_TO_METRO + METRO_NAMES)\n",
    "fix_metro_json(PATH_TO_METRO + METRO_ENTRANCE)"
   ]
  },
  {
   "cell_type": "code",
   "execution_count": 129,
   "metadata": {},
   "outputs": [],
   "source": [
    "with open(PATH_TO_SPRITES + JSON_FFILENAME) as testjson:\n",
    "    data = json.load(testjson)\n",
    "with open(PATH_TO_SPRITES + RETINA_JSON_FILENAME) as testjson:\n",
    "    data2 = json.load(testjson)\n",
    "\n",
    "new_data = data.copy()\n",
    "new_data2 = data2.copy()\n",
    "\n",
    "for item in data:\n",
    "    if item not in METRO_LIST:\n",
    "        formated = change_down_dash(item)\n",
    "        if formated != item:\n",
    "            new_data[formated] = new_data[item]\n",
    "            del new_data[item]\n",
    "\n",
    "for item2 in data2:\n",
    "    if item2 not in METRO_LIST:\n",
    "        formated2 = change_down_dash(item2)\n",
    "        if formated2 != item2:\n",
    "            new_data2[formated2] = new_data2[item2]\n",
    "            del new_data2[item2]"
   ]
  },
  {
   "cell_type": "code",
   "execution_count": 131,
   "metadata": {},
   "outputs": [],
   "source": [
    "with open(PATH_TO_SAVE + \"lun_sprites_m.json\", 'w') as outfile:\n",
    "            json.dump(new_data, outfile, indent=3)\n",
    "with open(PATH_TO_SAVE + \"lun_sprites_m@2x.json\", 'w') as outfile:\n",
    "            json.dump(new_data2, outfile, indent=3)"
   ]
  },
  {
   "cell_type": "code",
   "execution_count": null,
   "metadata": {},
   "outputs": [],
   "source": []
  }
 ],
 "metadata": {
  "kernelspec": {
   "display_name": "Python 3",
   "language": "python",
   "name": "python3"
  },
  "language_info": {
   "codemirror_mode": {
    "name": "ipython",
    "version": 3
   },
   "file_extension": ".py",
   "mimetype": "text/x-python",
   "name": "python",
   "nbconvert_exporter": "python",
   "pygments_lexer": "ipython3",
   "version": "3.6.8"
  },
  "latex_envs": {
   "LaTeX_envs_menu_present": true,
   "autoclose": false,
   "autocomplete": true,
   "bibliofile": "biblio.bib",
   "cite_by": "apalike",
   "current_citInitial": 1,
   "eqLabelWithNumbers": true,
   "eqNumInitial": 1,
   "hotkeys": {
    "equation": "Ctrl-E",
    "itemize": "Ctrl-I"
   },
   "labels_anchors": false,
   "latex_user_defs": false,
   "report_style_numbering": false,
   "user_envs_cfg": false
  }
 },
 "nbformat": 4,
 "nbformat_minor": 2
}
